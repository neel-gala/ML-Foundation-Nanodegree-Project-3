{
 "cells": [
  {
   "cell_type": "markdown",
   "metadata": {},
   "source": [
    "# Titanic Data Analysis\n",
    "\n",
    "## Introduction\n",
    "**Purpose:** To performa data analysis on a sample Titanic dataset. \n",
    "\n",
    "This dataset contains demographics and passenger information from 891 of the 2224 passengers and crew on board the Titanic. You can view a description of this dataset on the Kaggle website, where the data was obtained (https://www.kaggle.com/c/titanic/data).\n"
   ]
  },
  {
   "cell_type": "markdown",
   "metadata": {
    "collapsed": true
   },
   "source": [
    "## Questions\n",
    "\n",
    "\"One of the reasons that the shipwreck led to such loss of life was that there were not enough lifeboats for the passengers and crew. Although there was some element of luck involved in surviving the sinking, some groups of people were more likely to survive than others, such as women, children, and the upper-class.\" -  https://www.kaggle.com/c/titanic\n",
    "\n",
    "What factors made people more likely to survive?\n",
    "1. **Were social-economic standing a factor in survival rate?**\n",
    "2. **Did age, regardless of sex, determine your chances of survival?**\n",
    "3. **Did women and children have preference to lifeboats (survival)?**\n",
    "\n",
    "**Assumption:** We are going to assume that everyone who survived made it to a life boat and it wasn't by chance or luck."
   ]
  },
  {
   "cell_type": "markdown",
   "metadata": {},
   "source": [
    "## Data Wrangling "
   ]
  },
  {
   "cell_type": "markdown",
   "metadata": {},
   "source": [
    "### Data Description\n",
    "(from https://www.kaggle.com/c/titanic)\n",
    "\n",
    "- **survival:** Survival (0 = No; 1 = Yes)\n",
    "- **pclass:** Passenger Class (1 = 1st; 2 = 2nd; 3 = 3rd)\n",
    "- **name:** Name\n",
    "- **sex:** Sex\n",
    "- **age:** Age\n",
    "- **sibsp:** Number of Siblings/Spouses Aboard\n",
    "- **parch:** Number of Parents/Children Aboard\n",
    "- **ticket:** Ticket Number\n",
    "- **fare:** Passenger Fare\n",
    "- **cabin:** Cabin\n",
    "- **embarked:** Port of Embarkation (C = Cherbourg; Q = Queenstown; S = Southampton)\n",
    "\n",
    "**Special Notes:**\n",
    "- Pclass is a proxy for socio-economic status (SES) 1st ~ Upper; 2nd ~ Middle; 3rd ~ Lower\n",
    "- Age is in Years; Fractional if Age less than One (1) If the Age is Estimated, it is in the form xx.5\n"
   ]
  },
  {
   "cell_type": "code",
   "execution_count": 36,
   "metadata": {},
   "outputs": [],
   "source": [
    "# Render plots inline\n",
    "%matplotlib inline\n",
    "\n",
    "# Import libraries\n",
    "import pandas as pd\n",
    "import numpy as np\n",
    "import matplotlib.pyplot as plt\n",
    "import seaborn as sns\n",
    "\n",
    "# Set style for all graphs\n",
    "sns.set_style(\"dark\") \n",
    "\n",
    "# Read in the dataset, create dataframe\n",
    "titanic_data = pd.read_csv('titanic_data.csv')"
   ]
  },
  {
   "cell_type": "code",
   "execution_count": 37,
   "metadata": {},
   "outputs": [
    {
     "data": {
      "text/html": [
       "<div>\n",
       "<style>\n",
       "    .dataframe thead tr:only-child th {\n",
       "        text-align: right;\n",
       "    }\n",
       "\n",
       "    .dataframe thead th {\n",
       "        text-align: left;\n",
       "    }\n",
       "\n",
       "    .dataframe tbody tr th {\n",
       "        vertical-align: top;\n",
       "    }\n",
       "</style>\n",
       "<table border=\"1\" class=\"dataframe\">\n",
       "  <thead>\n",
       "    <tr style=\"text-align: right;\">\n",
       "      <th></th>\n",
       "      <th>PassengerId</th>\n",
       "      <th>Survived</th>\n",
       "      <th>Pclass</th>\n",
       "      <th>Name</th>\n",
       "      <th>Sex</th>\n",
       "      <th>Age</th>\n",
       "      <th>SibSp</th>\n",
       "      <th>Parch</th>\n",
       "      <th>Ticket</th>\n",
       "      <th>Fare</th>\n",
       "      <th>Cabin</th>\n",
       "      <th>Embarked</th>\n",
       "    </tr>\n",
       "  </thead>\n",
       "  <tbody>\n",
       "    <tr>\n",
       "      <th>0</th>\n",
       "      <td>1</td>\n",
       "      <td>0</td>\n",
       "      <td>3</td>\n",
       "      <td>Braund, Mr. Owen Harris</td>\n",
       "      <td>male</td>\n",
       "      <td>22.0</td>\n",
       "      <td>1</td>\n",
       "      <td>0</td>\n",
       "      <td>A/5 21171</td>\n",
       "      <td>7.2500</td>\n",
       "      <td>NaN</td>\n",
       "      <td>S</td>\n",
       "    </tr>\n",
       "    <tr>\n",
       "      <th>1</th>\n",
       "      <td>2</td>\n",
       "      <td>1</td>\n",
       "      <td>1</td>\n",
       "      <td>Cumings, Mrs. John Bradley (Florence Briggs Th...</td>\n",
       "      <td>female</td>\n",
       "      <td>38.0</td>\n",
       "      <td>1</td>\n",
       "      <td>0</td>\n",
       "      <td>PC 17599</td>\n",
       "      <td>71.2833</td>\n",
       "      <td>C85</td>\n",
       "      <td>C</td>\n",
       "    </tr>\n",
       "    <tr>\n",
       "      <th>2</th>\n",
       "      <td>3</td>\n",
       "      <td>1</td>\n",
       "      <td>3</td>\n",
       "      <td>Heikkinen, Miss. Laina</td>\n",
       "      <td>female</td>\n",
       "      <td>26.0</td>\n",
       "      <td>0</td>\n",
       "      <td>0</td>\n",
       "      <td>STON/O2. 3101282</td>\n",
       "      <td>7.9250</td>\n",
       "      <td>NaN</td>\n",
       "      <td>S</td>\n",
       "    </tr>\n",
       "    <tr>\n",
       "      <th>3</th>\n",
       "      <td>4</td>\n",
       "      <td>1</td>\n",
       "      <td>1</td>\n",
       "      <td>Futrelle, Mrs. Jacques Heath (Lily May Peel)</td>\n",
       "      <td>female</td>\n",
       "      <td>35.0</td>\n",
       "      <td>1</td>\n",
       "      <td>0</td>\n",
       "      <td>113803</td>\n",
       "      <td>53.1000</td>\n",
       "      <td>C123</td>\n",
       "      <td>S</td>\n",
       "    </tr>\n",
       "    <tr>\n",
       "      <th>4</th>\n",
       "      <td>5</td>\n",
       "      <td>0</td>\n",
       "      <td>3</td>\n",
       "      <td>Allen, Mr. William Henry</td>\n",
       "      <td>male</td>\n",
       "      <td>35.0</td>\n",
       "      <td>0</td>\n",
       "      <td>0</td>\n",
       "      <td>373450</td>\n",
       "      <td>8.0500</td>\n",
       "      <td>NaN</td>\n",
       "      <td>S</td>\n",
       "    </tr>\n",
       "  </tbody>\n",
       "</table>\n",
       "</div>"
      ],
      "text/plain": [
       "   PassengerId  Survived  Pclass  \\\n",
       "0            1         0       3   \n",
       "1            2         1       1   \n",
       "2            3         1       3   \n",
       "3            4         1       1   \n",
       "4            5         0       3   \n",
       "\n",
       "                                                Name     Sex   Age  SibSp  \\\n",
       "0                            Braund, Mr. Owen Harris    male  22.0      1   \n",
       "1  Cumings, Mrs. John Bradley (Florence Briggs Th...  female  38.0      1   \n",
       "2                             Heikkinen, Miss. Laina  female  26.0      0   \n",
       "3       Futrelle, Mrs. Jacques Heath (Lily May Peel)  female  35.0      1   \n",
       "4                           Allen, Mr. William Henry    male  35.0      0   \n",
       "\n",
       "   Parch            Ticket     Fare Cabin Embarked  \n",
       "0      0         A/5 21171   7.2500   NaN        S  \n",
       "1      0          PC 17599  71.2833   C85        C  \n",
       "2      0  STON/O2. 3101282   7.9250   NaN        S  \n",
       "3      0            113803  53.1000  C123        S  \n",
       "4      0            373450   8.0500   NaN        S  "
      ]
     },
     "execution_count": 37,
     "metadata": {},
     "output_type": "execute_result"
    }
   ],
   "source": [
    "# Print the first few records to review data and format\n",
    "titanic_data.head()"
   ]
  },
  {
   "cell_type": "code",
   "execution_count": 38,
   "metadata": {},
   "outputs": [
    {
     "data": {
      "text/html": [
       "<div>\n",
       "<style>\n",
       "    .dataframe thead tr:only-child th {\n",
       "        text-align: right;\n",
       "    }\n",
       "\n",
       "    .dataframe thead th {\n",
       "        text-align: left;\n",
       "    }\n",
       "\n",
       "    .dataframe tbody tr th {\n",
       "        vertical-align: top;\n",
       "    }\n",
       "</style>\n",
       "<table border=\"1\" class=\"dataframe\">\n",
       "  <thead>\n",
       "    <tr style=\"text-align: right;\">\n",
       "      <th></th>\n",
       "      <th>PassengerId</th>\n",
       "      <th>Survived</th>\n",
       "      <th>Pclass</th>\n",
       "      <th>Name</th>\n",
       "      <th>Sex</th>\n",
       "      <th>Age</th>\n",
       "      <th>SibSp</th>\n",
       "      <th>Parch</th>\n",
       "      <th>Ticket</th>\n",
       "      <th>Fare</th>\n",
       "      <th>Cabin</th>\n",
       "      <th>Embarked</th>\n",
       "    </tr>\n",
       "  </thead>\n",
       "  <tbody>\n",
       "    <tr>\n",
       "      <th>886</th>\n",
       "      <td>887</td>\n",
       "      <td>0</td>\n",
       "      <td>2</td>\n",
       "      <td>Montvila, Rev. Juozas</td>\n",
       "      <td>male</td>\n",
       "      <td>27.0</td>\n",
       "      <td>0</td>\n",
       "      <td>0</td>\n",
       "      <td>211536</td>\n",
       "      <td>13.00</td>\n",
       "      <td>NaN</td>\n",
       "      <td>S</td>\n",
       "    </tr>\n",
       "    <tr>\n",
       "      <th>887</th>\n",
       "      <td>888</td>\n",
       "      <td>1</td>\n",
       "      <td>1</td>\n",
       "      <td>Graham, Miss. Margaret Edith</td>\n",
       "      <td>female</td>\n",
       "      <td>19.0</td>\n",
       "      <td>0</td>\n",
       "      <td>0</td>\n",
       "      <td>112053</td>\n",
       "      <td>30.00</td>\n",
       "      <td>B42</td>\n",
       "      <td>S</td>\n",
       "    </tr>\n",
       "    <tr>\n",
       "      <th>888</th>\n",
       "      <td>889</td>\n",
       "      <td>0</td>\n",
       "      <td>3</td>\n",
       "      <td>Johnston, Miss. Catherine Helen \"Carrie\"</td>\n",
       "      <td>female</td>\n",
       "      <td>NaN</td>\n",
       "      <td>1</td>\n",
       "      <td>2</td>\n",
       "      <td>W./C. 6607</td>\n",
       "      <td>23.45</td>\n",
       "      <td>NaN</td>\n",
       "      <td>S</td>\n",
       "    </tr>\n",
       "    <tr>\n",
       "      <th>889</th>\n",
       "      <td>890</td>\n",
       "      <td>1</td>\n",
       "      <td>1</td>\n",
       "      <td>Behr, Mr. Karl Howell</td>\n",
       "      <td>male</td>\n",
       "      <td>26.0</td>\n",
       "      <td>0</td>\n",
       "      <td>0</td>\n",
       "      <td>111369</td>\n",
       "      <td>30.00</td>\n",
       "      <td>C148</td>\n",
       "      <td>C</td>\n",
       "    </tr>\n",
       "    <tr>\n",
       "      <th>890</th>\n",
       "      <td>891</td>\n",
       "      <td>0</td>\n",
       "      <td>3</td>\n",
       "      <td>Dooley, Mr. Patrick</td>\n",
       "      <td>male</td>\n",
       "      <td>32.0</td>\n",
       "      <td>0</td>\n",
       "      <td>0</td>\n",
       "      <td>370376</td>\n",
       "      <td>7.75</td>\n",
       "      <td>NaN</td>\n",
       "      <td>Q</td>\n",
       "    </tr>\n",
       "  </tbody>\n",
       "</table>\n",
       "</div>"
      ],
      "text/plain": [
       "     PassengerId  Survived  Pclass                                      Name  \\\n",
       "886          887         0       2                     Montvila, Rev. Juozas   \n",
       "887          888         1       1              Graham, Miss. Margaret Edith   \n",
       "888          889         0       3  Johnston, Miss. Catherine Helen \"Carrie\"   \n",
       "889          890         1       1                     Behr, Mr. Karl Howell   \n",
       "890          891         0       3                       Dooley, Mr. Patrick   \n",
       "\n",
       "        Sex   Age  SibSp  Parch      Ticket   Fare Cabin Embarked  \n",
       "886    male  27.0      0      0      211536  13.00   NaN        S  \n",
       "887  female  19.0      0      0      112053  30.00   B42        S  \n",
       "888  female   NaN      1      2  W./C. 6607  23.45   NaN        S  \n",
       "889    male  26.0      0      0      111369  30.00  C148        C  \n",
       "890    male  32.0      0      0      370376   7.75   NaN        Q  "
      ]
     },
     "execution_count": 38,
     "metadata": {},
     "output_type": "execute_result"
    }
   ],
   "source": [
    "# Print the last few records to review data and format\n",
    "titanic_data.tail()"
   ]
  },
  {
   "cell_type": "markdown",
   "metadata": {},
   "source": [
    "**Note:** Some values for Age are NaN, while ticket and cabin values are alphanumeric and also missing values with NaN."
   ]
  },
  {
   "cell_type": "markdown",
   "metadata": {},
   "source": [
    "**Additional potential questions from reading data and data description**\n",
    "- Did cabin location play a part in the survival rate without the consideration of class\n",
    " - No data on where the cabins are actually located on the Titanic\n",
    " - External source of this data could probably be found"
   ]
  },
  {
   "cell_type": "markdown",
   "metadata": {},
   "source": [
    "### Data Cleanup\n",
    "\n",
    "From the data description and questions to answer, I've determined that some dataset columns will not play a part in my analysis and these columns can therefore be removed. This will help with processing performance of the dataset. \n",
    "- PassengerId\n",
    "- Name\n",
    "- Ticket\n",
    "- Cabin\n",
    "- Fare\n",
    "- Embarked\n",
    "\n",
    "I'll take a 3 step approach to data cleanup\n",
    "1. Identify and remove any duplicate entries\n",
    "2. Remove unnecessary columns\n",
    "3. Fix missing and data format issues"
   ]
  },
  {
   "cell_type": "markdown",
   "metadata": {},
   "source": [
    "#### Step 1 - Remove duplicate entries\n",
    "Concluded that no duplicate entires exist, based on tests below"
   ]
  },
  {
   "cell_type": "code",
   "execution_count": 39,
   "metadata": {},
   "outputs": [
    {
     "name": "stdout",
     "output_type": "stream",
     "text": [
      "Number of duplicate entries is/are 0\n"
     ]
    }
   ],
   "source": [
    "# Identify and remove duplicate entries\n",
    "titanic_data_duplicates = titanic_data.duplicated()\n",
    "print 'Number of duplicate entries is/are {}'.format(titanic_data_duplicates.sum())"
   ]
  },
  {
   "cell_type": "markdown",
   "metadata": {},
   "source": [
    "#### Step 2 - Remove unnecessary columns\n",
    "Columns (PassengerId, Name, Ticket, Cabin, Fare, Embarked) removed"
   ]
  },
  {
   "cell_type": "code",
   "execution_count": 40,
   "metadata": {},
   "outputs": [
    {
     "data": {
      "text/html": [
       "<div>\n",
       "<style>\n",
       "    .dataframe thead tr:only-child th {\n",
       "        text-align: right;\n",
       "    }\n",
       "\n",
       "    .dataframe thead th {\n",
       "        text-align: left;\n",
       "    }\n",
       "\n",
       "    .dataframe tbody tr th {\n",
       "        vertical-align: top;\n",
       "    }\n",
       "</style>\n",
       "<table border=\"1\" class=\"dataframe\">\n",
       "  <thead>\n",
       "    <tr style=\"text-align: right;\">\n",
       "      <th></th>\n",
       "      <th>Survived</th>\n",
       "      <th>Pclass</th>\n",
       "      <th>Sex</th>\n",
       "      <th>Age</th>\n",
       "      <th>SibSp</th>\n",
       "      <th>Parch</th>\n",
       "    </tr>\n",
       "  </thead>\n",
       "  <tbody>\n",
       "    <tr>\n",
       "      <th>0</th>\n",
       "      <td>0</td>\n",
       "      <td>3</td>\n",
       "      <td>male</td>\n",
       "      <td>22.0</td>\n",
       "      <td>1</td>\n",
       "      <td>0</td>\n",
       "    </tr>\n",
       "    <tr>\n",
       "      <th>1</th>\n",
       "      <td>1</td>\n",
       "      <td>1</td>\n",
       "      <td>female</td>\n",
       "      <td>38.0</td>\n",
       "      <td>1</td>\n",
       "      <td>0</td>\n",
       "    </tr>\n",
       "    <tr>\n",
       "      <th>2</th>\n",
       "      <td>1</td>\n",
       "      <td>3</td>\n",
       "      <td>female</td>\n",
       "      <td>26.0</td>\n",
       "      <td>0</td>\n",
       "      <td>0</td>\n",
       "    </tr>\n",
       "    <tr>\n",
       "      <th>3</th>\n",
       "      <td>1</td>\n",
       "      <td>1</td>\n",
       "      <td>female</td>\n",
       "      <td>35.0</td>\n",
       "      <td>1</td>\n",
       "      <td>0</td>\n",
       "    </tr>\n",
       "    <tr>\n",
       "      <th>4</th>\n",
       "      <td>0</td>\n",
       "      <td>3</td>\n",
       "      <td>male</td>\n",
       "      <td>35.0</td>\n",
       "      <td>0</td>\n",
       "      <td>0</td>\n",
       "    </tr>\n",
       "  </tbody>\n",
       "</table>\n",
       "</div>"
      ],
      "text/plain": [
       "   Survived  Pclass     Sex   Age  SibSp  Parch\n",
       "0         0       3    male  22.0      1      0\n",
       "1         1       1  female  38.0      1      0\n",
       "2         1       3  female  26.0      0      0\n",
       "3         1       1  female  35.0      1      0\n",
       "4         0       3    male  35.0      0      0"
      ]
     },
     "execution_count": 40,
     "metadata": {},
     "output_type": "execute_result"
    }
   ],
   "source": [
    "# Create new dataset without unwanted columns\n",
    "titanic_data_cleaned = titanic_data.drop(['PassengerId','Name','Ticket','Cabin','Fare','Embarked'], axis=1)\n",
    "titanic_data_cleaned.head()"
   ]
  },
  {
   "cell_type": "markdown",
   "metadata": {},
   "source": [
    "#### Step 3 - Fix any missing or data format issues"
   ]
  },
  {
   "cell_type": "code",
   "execution_count": 41,
   "metadata": {},
   "outputs": [
    {
     "data": {
      "text/plain": [
       "Survived      0\n",
       "Pclass        0\n",
       "Sex           0\n",
       "Age         177\n",
       "SibSp         0\n",
       "Parch         0\n",
       "dtype: int64"
      ]
     },
     "execution_count": 41,
     "metadata": {},
     "output_type": "execute_result"
    }
   ],
   "source": [
    "# Calculate number of missing values\n",
    "titanic_data_cleaned.isnull().sum()"
   ]
  },
  {
   "cell_type": "code",
   "execution_count": 42,
   "metadata": {},
   "outputs": [
    {
     "data": {
      "text/html": [
       "<div>\n",
       "<style>\n",
       "    .dataframe thead tr:only-child th {\n",
       "        text-align: right;\n",
       "    }\n",
       "\n",
       "    .dataframe thead th {\n",
       "        text-align: left;\n",
       "    }\n",
       "\n",
       "    .dataframe tbody tr th {\n",
       "        vertical-align: top;\n",
       "    }\n",
       "</style>\n",
       "<table border=\"1\" class=\"dataframe\">\n",
       "  <thead>\n",
       "    <tr style=\"text-align: right;\">\n",
       "      <th></th>\n",
       "      <th>Survived</th>\n",
       "      <th>Pclass</th>\n",
       "      <th>Sex</th>\n",
       "      <th>Age</th>\n",
       "      <th>SibSp</th>\n",
       "      <th>Parch</th>\n",
       "    </tr>\n",
       "  </thead>\n",
       "  <tbody>\n",
       "    <tr>\n",
       "      <th>5</th>\n",
       "      <td>0</td>\n",
       "      <td>3</td>\n",
       "      <td>male</td>\n",
       "      <td>NaN</td>\n",
       "      <td>0</td>\n",
       "      <td>0</td>\n",
       "    </tr>\n",
       "    <tr>\n",
       "      <th>17</th>\n",
       "      <td>1</td>\n",
       "      <td>2</td>\n",
       "      <td>male</td>\n",
       "      <td>NaN</td>\n",
       "      <td>0</td>\n",
       "      <td>0</td>\n",
       "    </tr>\n",
       "    <tr>\n",
       "      <th>19</th>\n",
       "      <td>1</td>\n",
       "      <td>3</td>\n",
       "      <td>female</td>\n",
       "      <td>NaN</td>\n",
       "      <td>0</td>\n",
       "      <td>0</td>\n",
       "    </tr>\n",
       "    <tr>\n",
       "      <th>26</th>\n",
       "      <td>0</td>\n",
       "      <td>3</td>\n",
       "      <td>male</td>\n",
       "      <td>NaN</td>\n",
       "      <td>0</td>\n",
       "      <td>0</td>\n",
       "    </tr>\n",
       "    <tr>\n",
       "      <th>28</th>\n",
       "      <td>1</td>\n",
       "      <td>3</td>\n",
       "      <td>female</td>\n",
       "      <td>NaN</td>\n",
       "      <td>0</td>\n",
       "      <td>0</td>\n",
       "    </tr>\n",
       "  </tbody>\n",
       "</table>\n",
       "</div>"
      ],
      "text/plain": [
       "    Survived  Pclass     Sex  Age  SibSp  Parch\n",
       "5          0       3    male  NaN      0      0\n",
       "17         1       2    male  NaN      0      0\n",
       "19         1       3  female  NaN      0      0\n",
       "26         0       3    male  NaN      0      0\n",
       "28         1       3  female  NaN      0      0"
      ]
     },
     "execution_count": 42,
     "metadata": {},
     "output_type": "execute_result"
    }
   ],
   "source": [
    "# Review some of the missing Age data\n",
    "missing_age_bool = pd.isnull(titanic_data_cleaned['Age'])\n",
    "titanic_data_cleaned[missing_age_bool].head()"
   ]
  },
  {
   "cell_type": "code",
   "execution_count": 43,
   "metadata": {},
   "outputs": [
    {
     "name": "stdout",
     "output_type": "stream",
     "text": [
      "Number for females and males with age missing are 53 and 124 respectively\n"
     ]
    }
   ],
   "source": [
    "# Determine number of males and females with missing age values\n",
    "missing_age_female = titanic_data_cleaned[missing_age_bool]['Sex'] == 'female'\n",
    "missing_age_male = titanic_data_cleaned[missing_age_bool]['Sex'] == 'male'\n",
    "\n",
    "print 'Number for females and males with age missing are {} and {} respectively'.format(\n",
    "missing_age_female.sum(),missing_age_male.sum())"
   ]
  },
  {
   "cell_type": "code",
   "execution_count": 44,
   "metadata": {},
   "outputs": [
    {
     "name": "stdout",
     "output_type": "stream",
     "text": [
      "<class 'pandas.core.frame.DataFrame'>\n",
      "RangeIndex: 891 entries, 0 to 890\n",
      "Data columns (total 6 columns):\n",
      "Survived    891 non-null int64\n",
      "Pclass      891 non-null int64\n",
      "Sex         891 non-null object\n",
      "Age         714 non-null float64\n",
      "SibSp       891 non-null int64\n",
      "Parch       891 non-null int64\n",
      "dtypes: float64(1), int64(4), object(1)\n",
      "memory usage: 41.8+ KB\n"
     ]
    }
   ],
   "source": [
    "# Taking a look at the datatypes\n",
    "titanic_data_cleaned.info()"
   ]
  },
  {
   "cell_type": "markdown",
   "metadata": {},
   "source": [
    "Missing Age data will affect **Q2 - Did age, regardless of sex, determine your chances of survival?** But graphing and summations shouldn't be a problem since they will be treated as zero(0) value. However, 177 is roughly 20% of our 891 sample dataset which seems like a lot to discount. Also, this needs to be accounted for if reviewing descriptive stats such as mean age. \n",
    "\n",
    "Should keep note of the proportions across male and female...\n",
    "\n",
    "- Age missing in male data: **124**\n",
    "- Age missing in female data: **53**"
   ]
  },
  {
   "cell_type": "markdown",
   "metadata": {},
   "source": [
    "## Data Exploration and Visualization"
   ]
  },
  {
   "cell_type": "code",
   "execution_count": 45,
   "metadata": {},
   "outputs": [
    {
     "data": {
      "text/html": [
       "<div>\n",
       "<style>\n",
       "    .dataframe thead tr:only-child th {\n",
       "        text-align: right;\n",
       "    }\n",
       "\n",
       "    .dataframe thead th {\n",
       "        text-align: left;\n",
       "    }\n",
       "\n",
       "    .dataframe tbody tr th {\n",
       "        vertical-align: top;\n",
       "    }\n",
       "</style>\n",
       "<table border=\"1\" class=\"dataframe\">\n",
       "  <thead>\n",
       "    <tr style=\"text-align: right;\">\n",
       "      <th></th>\n",
       "      <th>Survived</th>\n",
       "      <th>Pclass</th>\n",
       "      <th>Age</th>\n",
       "      <th>SibSp</th>\n",
       "      <th>Parch</th>\n",
       "    </tr>\n",
       "  </thead>\n",
       "  <tbody>\n",
       "    <tr>\n",
       "      <th>count</th>\n",
       "      <td>891.000000</td>\n",
       "      <td>891.000000</td>\n",
       "      <td>714.000000</td>\n",
       "      <td>891.000000</td>\n",
       "      <td>891.000000</td>\n",
       "    </tr>\n",
       "    <tr>\n",
       "      <th>mean</th>\n",
       "      <td>0.383838</td>\n",
       "      <td>2.308642</td>\n",
       "      <td>29.699118</td>\n",
       "      <td>0.523008</td>\n",
       "      <td>0.381594</td>\n",
       "    </tr>\n",
       "    <tr>\n",
       "      <th>std</th>\n",
       "      <td>0.486592</td>\n",
       "      <td>0.836071</td>\n",
       "      <td>14.526497</td>\n",
       "      <td>1.102743</td>\n",
       "      <td>0.806057</td>\n",
       "    </tr>\n",
       "    <tr>\n",
       "      <th>min</th>\n",
       "      <td>0.000000</td>\n",
       "      <td>1.000000</td>\n",
       "      <td>0.420000</td>\n",
       "      <td>0.000000</td>\n",
       "      <td>0.000000</td>\n",
       "    </tr>\n",
       "    <tr>\n",
       "      <th>25%</th>\n",
       "      <td>0.000000</td>\n",
       "      <td>2.000000</td>\n",
       "      <td>20.125000</td>\n",
       "      <td>0.000000</td>\n",
       "      <td>0.000000</td>\n",
       "    </tr>\n",
       "    <tr>\n",
       "      <th>50%</th>\n",
       "      <td>0.000000</td>\n",
       "      <td>3.000000</td>\n",
       "      <td>28.000000</td>\n",
       "      <td>0.000000</td>\n",
       "      <td>0.000000</td>\n",
       "    </tr>\n",
       "    <tr>\n",
       "      <th>75%</th>\n",
       "      <td>1.000000</td>\n",
       "      <td>3.000000</td>\n",
       "      <td>38.000000</td>\n",
       "      <td>1.000000</td>\n",
       "      <td>0.000000</td>\n",
       "    </tr>\n",
       "    <tr>\n",
       "      <th>max</th>\n",
       "      <td>1.000000</td>\n",
       "      <td>3.000000</td>\n",
       "      <td>80.000000</td>\n",
       "      <td>8.000000</td>\n",
       "      <td>6.000000</td>\n",
       "    </tr>\n",
       "  </tbody>\n",
       "</table>\n",
       "</div>"
      ],
      "text/plain": [
       "         Survived      Pclass         Age       SibSp       Parch\n",
       "count  891.000000  891.000000  714.000000  891.000000  891.000000\n",
       "mean     0.383838    2.308642   29.699118    0.523008    0.381594\n",
       "std      0.486592    0.836071   14.526497    1.102743    0.806057\n",
       "min      0.000000    1.000000    0.420000    0.000000    0.000000\n",
       "25%      0.000000    2.000000   20.125000    0.000000    0.000000\n",
       "50%      0.000000    3.000000   28.000000    0.000000    0.000000\n",
       "75%      1.000000    3.000000   38.000000    1.000000    0.000000\n",
       "max      1.000000    3.000000   80.000000    8.000000    6.000000"
      ]
     },
     "execution_count": 45,
     "metadata": {},
     "output_type": "execute_result"
    }
   ],
   "source": [
    "# Looking at some typical descriptive statistics\n",
    "titanic_data_cleaned.describe()"
   ]
  },
  {
   "cell_type": "code",
   "execution_count": 46,
   "metadata": {},
   "outputs": [
    {
     "data": {
      "text/html": [
       "<div>\n",
       "<style>\n",
       "    .dataframe thead tr:only-child th {\n",
       "        text-align: right;\n",
       "    }\n",
       "\n",
       "    .dataframe thead th {\n",
       "        text-align: left;\n",
       "    }\n",
       "\n",
       "    .dataframe tbody tr th {\n",
       "        vertical-align: top;\n",
       "    }\n",
       "</style>\n",
       "<table border=\"1\" class=\"dataframe\">\n",
       "  <thead>\n",
       "    <tr style=\"text-align: right;\">\n",
       "      <th></th>\n",
       "      <th>Survived</th>\n",
       "      <th>Pclass</th>\n",
       "      <th>Sex</th>\n",
       "      <th>Age</th>\n",
       "      <th>SibSp</th>\n",
       "      <th>Parch</th>\n",
       "    </tr>\n",
       "  </thead>\n",
       "  <tbody>\n",
       "    <tr>\n",
       "      <th>78</th>\n",
       "      <td>1</td>\n",
       "      <td>2</td>\n",
       "      <td>male</td>\n",
       "      <td>0.83</td>\n",
       "      <td>0</td>\n",
       "      <td>2</td>\n",
       "    </tr>\n",
       "    <tr>\n",
       "      <th>305</th>\n",
       "      <td>1</td>\n",
       "      <td>1</td>\n",
       "      <td>male</td>\n",
       "      <td>0.92</td>\n",
       "      <td>1</td>\n",
       "      <td>2</td>\n",
       "    </tr>\n",
       "    <tr>\n",
       "      <th>469</th>\n",
       "      <td>1</td>\n",
       "      <td>3</td>\n",
       "      <td>female</td>\n",
       "      <td>0.75</td>\n",
       "      <td>2</td>\n",
       "      <td>1</td>\n",
       "    </tr>\n",
       "    <tr>\n",
       "      <th>644</th>\n",
       "      <td>1</td>\n",
       "      <td>3</td>\n",
       "      <td>female</td>\n",
       "      <td>0.75</td>\n",
       "      <td>2</td>\n",
       "      <td>1</td>\n",
       "    </tr>\n",
       "    <tr>\n",
       "      <th>755</th>\n",
       "      <td>1</td>\n",
       "      <td>2</td>\n",
       "      <td>male</td>\n",
       "      <td>0.67</td>\n",
       "      <td>1</td>\n",
       "      <td>1</td>\n",
       "    </tr>\n",
       "    <tr>\n",
       "      <th>803</th>\n",
       "      <td>1</td>\n",
       "      <td>3</td>\n",
       "      <td>male</td>\n",
       "      <td>0.42</td>\n",
       "      <td>0</td>\n",
       "      <td>1</td>\n",
       "    </tr>\n",
       "    <tr>\n",
       "      <th>831</th>\n",
       "      <td>1</td>\n",
       "      <td>2</td>\n",
       "      <td>male</td>\n",
       "      <td>0.83</td>\n",
       "      <td>1</td>\n",
       "      <td>1</td>\n",
       "    </tr>\n",
       "  </tbody>\n",
       "</table>\n",
       "</div>"
      ],
      "text/plain": [
       "     Survived  Pclass     Sex   Age  SibSp  Parch\n",
       "78          1       2    male  0.83      0      2\n",
       "305         1       1    male  0.92      1      2\n",
       "469         1       3  female  0.75      2      1\n",
       "644         1       3  female  0.75      2      1\n",
       "755         1       2    male  0.67      1      1\n",
       "803         1       3    male  0.42      0      1\n",
       "831         1       2    male  0.83      1      1"
      ]
     },
     "execution_count": 46,
     "metadata": {},
     "output_type": "execute_result"
    }
   ],
   "source": [
    "# Age min at 0.42 looks a bit weird so give a closer look\n",
    "titanic_data_cleaned[titanic_data_cleaned['Age'] < 1]"
   ]
  },
  {
   "cell_type": "code",
   "execution_count": 47,
   "metadata": {},
   "outputs": [
    {
     "name": "stdout",
     "output_type": "stream",
     "text": [
      "Youngest to survive: 0.42 \n",
      "Youngest to die: 1.0 \n",
      "Oldest to survive: 80.0 \n",
      "Oldest to die: 74.0\n"
     ]
    }
   ],
   "source": [
    "# Taking a look at some survival rates for babies\n",
    "youngest_to_survive = titanic_data_cleaned[titanic_data_cleaned['Survived'] == True]['Age'].min()\n",
    "youngest_to_die = titanic_data_cleaned[titanic_data_cleaned['Survived'] == False]['Age'].min()\n",
    "oldest_to_survive = titanic_data_cleaned[titanic_data_cleaned['Survived'] == True]['Age'].max()\n",
    "oldest_to_die = titanic_data_cleaned[titanic_data_cleaned['Survived'] == False]['Age'].max()\n",
    "\n",
    "print 'Youngest to survive: {} \\nYoungest to die: {} \\nOldest to survive: {} \\nOldest to die: {}'.format(\n",
    "youngest_to_survive, youngest_to_die, oldest_to_survive, oldest_to_die)"
   ]
  },
  {
   "cell_type": "markdown",
   "metadata": {},
   "source": [
    "Data description states that Age can be fractional - *Age is in Years; Fractional if Age less than One (1) If the Age is Estimated, it is in the form xx.5* - Therefore, 0.42 appears to be expected and normal data\n",
    "\n",
    "**Note:** An interesting note is that all \"new borns\" survived. Potential **Q6** - At what age did children's survival rate match that of adults, if ever.\n",
    "\n",
    "Other notable stats\n",
    "- Oldest to survive: **80**\n",
    "- Oldest to die: **74**\n",
    "- Youngest to survive: **< 1 (0.42)**\n",
    "- Youngest to die: **1**"
   ]
  },
  {
   "cell_type": "markdown",
   "metadata": {},
   "source": [
    "## Question 1\n",
    "Were social-economic standing a factor in survival rate?"
   ]
  },
  {
   "cell_type": "code",
   "execution_count": 48,
   "metadata": {
    "collapsed": true
   },
   "outputs": [],
   "source": [
    "# Returns survival rate/percentage of sex and class\n",
    "def survival_rate(pclass, sex):\n",
    "    \"\"\"\n",
    "    Args:\n",
    "        pclass: class value 1,2 or 3\n",
    "        sex: male or female\n",
    "    Returns:\n",
    "        survival rate as percentage.\n",
    "    \"\"\"\n",
    "    grouped_by_total = titanic_data_cleaned.groupby(['Pclass', 'Sex']).size()[pclass,sex].astype('float')\n",
    "    grouped_by_survived_sex = \\\n",
    "        titanic_data_cleaned.groupby(['Pclass','Survived','Sex']).size()[pclass,1,sex].astype('float')\n",
    "    survived_sex_pct = (grouped_by_survived_sex / grouped_by_total * 100).round(2)\n",
    "    \n",
    "    return survived_sex_pct"
   ]
  },
  {
   "cell_type": "code",
   "execution_count": 49,
   "metadata": {},
   "outputs": [
    {
     "name": "stdout",
     "output_type": "stream",
     "text": [
      "Pclass  Survived  Sex   \n",
      "1       0         female      3\n",
      "                  male       77\n",
      "        1         female     91\n",
      "                  male       45\n",
      "2       0         female      6\n",
      "                  male       91\n",
      "        1         female     70\n",
      "                  male       17\n",
      "3       0         female     72\n",
      "                  male      300\n",
      "        1         female     72\n",
      "                  male       47\n",
      "dtype: int64\n",
      "Class 1 - female survival rate: 96.81%\n",
      "Class 1 - male survival rate: 36.89%\n",
      "-----\n",
      "Class 2 - female survival rate: 92.11%\n",
      "Class 2 - male survival rate: 15.74%\n",
      "-----\n",
      "Class 3 - female survival rate: 50.0%\n",
      "Class 3 - male survival rate: 13.54%\n"
     ]
    },
    {
     "data": {
      "image/png": "[encoded data removed]",
      "text/plain": [
       "<matplotlib.figure.Figure at 0xbc81908>"
      ]
     },
     "metadata": {},
     "output_type": "display_data"
    },
    {
     "data": {
      "image/png": "[encoded data removed]",
      "text/plain": [
       "<matplotlib.figure.Figure at 0xa03b7f0>"
      ]
     },
     "metadata": {},
     "output_type": "display_data"
    }
   ],
   "source": [
    "# Get the actual numbers grouped by class, suvival and sex\n",
    "groupedby_class_survived_size = titanic_data_cleaned.groupby(['Pclass','Survived','Sex']).size()\n",
    "\n",
    "# Print - Grouped by class, survival and sex\n",
    "print groupedby_class_survived_size\n",
    "print 'Class 1 - female survival rate: {}%'.format(survival_rate(1,'female'))\n",
    "print 'Class 1 - male survival rate: {}%'.format(survival_rate(1,'male'))\n",
    "print '-----'\n",
    "print 'Class 2 - female survival rate: {}%'.format(survival_rate(2,'female'))\n",
    "print 'Class 2 - male survival rate: {}%'.format(survival_rate(2,'male'))\n",
    "print '-----'\n",
    "print 'Class 3 - female survival rate: {}%'.format(survival_rate(3,'female'))\n",
    "print 'Class 3 - male survival rate: {}%'.format(survival_rate(3,'male'))\n",
    "\n",
    "\n",
    "# Graph - Grouped by class, survival and sex\n",
    "g = sns.factorplot(x=\"Sex\", y=\"Survived\", col=\"Pclass\", data=titanic_data_cleaned, \n",
    "                   saturation=.5, kind=\"bar\", ci=None, size=5, aspect=.8)\n",
    "\n",
    "# Fix up the labels\n",
    "(g.set_axis_labels('', 'Survival Rate')\n",
    "     .set_xticklabels([\"Men\", \"Women\"])\n",
    "     .set_titles(\"Class {col_name}\")\n",
    "     .set(ylim=(0, 1))\n",
    "     .despine(left=True, bottom=True))\n",
    "\n",
    "# Graph - Actual count of passengers by survival, group and sex\n",
    "g = sns.factorplot('Survived', col='Sex', hue='Pclass', data=titanic_data_cleaned, kind='count', size=7, aspect=.8)\n",
    "\n",
    "# Fix up the labels\n",
    "(g.set_axis_labels('Suvivors', 'No. of Passengers')\n",
    "    .set_xticklabels([\"False\", \"True\"])\n",
    "    .set_titles('{col_name}')\n",
    ")\n",
    "\n",
    "titles = ['Men', 'Women']\n",
    "for ax, title in zip(g.axes.flat, titles):\n",
    "    ax.set_title(title)"
   ]
  },
  {
   "cell_type": "markdown",
   "metadata": {},
   "source": [
    "Based on the raw numbers it would appear as though passengers in Class 3 had a similar survival rate as those from Class 1 with **119 and 136 passengers surviving respectively.** However, looking at the percentages of the overall passengers per class and the total numbers across each class, it can be assumed that **a passenger from Class 1 is about 2.5x times more likely to survive than a passenger in Class 3.** \n",
    "\n",
    "Social-economic standing was a factor in survival rate of passengers.\n",
    "\n",
    "- Class 1: **62.96%**\n",
    "- Class 2: **47.28%**\n",
    "- Class 3: **24.24%**"
   ]
  },
  {
   "cell_type": "markdown",
   "metadata": {},
   "source": [
    "**The number of mean survivals of 1st Passenger class (which are significantly less in number), clearly depicts the preference \n",
    "of the situation and how upper class had a better chance at survival than others.**<br/>\n",
    "\n",
    "### Performing z-test to verify the hypothesis\n",
    "\n",
    "How to prove the hypothesis that 1st class passengers had a better chance at survival?<br/>\n",
    "Since the samples come from the population on the ship, we perform z-test to check if the upper class had better chance at survival than the population it is taken from. Our Hypothesis<br/>\n",
    "$$\n",
    "H_0: \\text{ Upper class Didn't have better chance at survival}\n",
    "$$\n",
    "<br/>\n",
    "$$\n",
    "H_1: \\text{ Upper class had better chance at survival}\n",
    "$$\n",
    "<br/>\n",
    "$$\n",
    "z = \\frac{\\text{sample mean} - \\text{Population Mean}}{\\text{Population Std / number of samples}}\n",
    "$$\n",
    "**alpha = 0.05<br/>\n",
    "It is a positive z-test to check if Chances of Survival of Upper class is greater than Chances of Survival for Population.**"
   ]
  },
  {
   "cell_type": "code",
   "execution_count": 50,
   "metadata": {},
   "outputs": [
    {
     "name": "stdout",
     "output_type": "stream",
     "text": [
      "('Z-score: ', 7.4238282590035354)\n"
     ]
    }
   ],
   "source": [
    "def z_test(sample, population):\n",
    "    sample_mean = sample.mean()\n",
    "    population_mean = population.mean()\n",
    "    std_population = population.std()\n",
    "    n = sample.shape[0]\n",
    "    den = std_population / np.sqrt(n)\n",
    "    \n",
    "    return (sample_mean - population_mean) / den\n",
    "\n",
    "print(\"Z-score: \", z_test(titanic_data_cleaned[titanic_data_cleaned[\"Pclass\"]==1][\"Survived\"], titanic_data_cleaned[\"Survived\"]))"
   ]
  },
  {
   "cell_type": "markdown",
   "metadata": {},
   "source": [
    "**Z-score for Positive z-test with alpha level 0.05 equals 1.645.**<br/>\n",
    "**Z-score of survival of upper class (7.42) is significantly more than that of the population. This clearly indicates that upper class had a far better chance at survival.**"
   ]
  },
  {
   "cell_type": "markdown",
   "metadata": {},
   "source": [
    "## Question 2\n",
    "Did age, regardless of sex and class, determine your chances of survival?"
   ]
  },
  {
   "cell_type": "code",
   "execution_count": 51,
   "metadata": {},
   "outputs": [
    {
     "name": "stdout",
     "output_type": "stream",
     "text": [
      "Number of men and woman with age missing are 53 and 124 respectively\n",
      "Total number of survivors 290 \n",
      "Total number of non survivors 424 \n",
      "Mean age of survivors 28.0 \n",
      "Mean age of non survivors 31.0 \n",
      "Oldest to survive 80.0 \n",
      "Oldest to not survive 74.0\n"
     ]
    },
    {
     "data": {
      "text/plain": [
       "<seaborn.axisgrid.FacetGrid at 0xc64d278>"
      ]
     },
     "execution_count": 51,
     "metadata": {},
     "output_type": "execute_result"
    },
    {
     "data": {
      "image/png": "[encoded data removed]",
      "text/plain": [
       "<matplotlib.figure.Figure at 0xdc16b00>"
      ]
     },
     "metadata": {},
     "output_type": "display_data"
    }
   ],
   "source": [
    "# Let us first identify and get rid of records with missing Age\n",
    "print 'Number of men and woman with age missing are {} and {} respectively'.format(\n",
    "missing_age_female.sum(),missing_age_male.sum())\n",
    "\n",
    "# Drop the NaN values. Calculations will be okay with them (seen as zero) but will throw off averages and counts\n",
    "titanic_data_age_cleaned = titanic_data_cleaned.dropna()\n",
    "\n",
    "# Find total count of survivors and those who didn't\n",
    "number_survived = titanic_data_age_cleaned[titanic_data_age_cleaned['Survived'] == True]['Survived'].count()\n",
    "number_died = titanic_data_age_cleaned[titanic_data_age_cleaned['Survived'] == False]['Survived'].count()\n",
    "\n",
    "# Find average of survivors and those who didn't\n",
    "mean_age_survived = titanic_data_age_cleaned[titanic_data_age_cleaned['Survived'] == True]['Age'].mean()\n",
    "mean_age_died = titanic_data_age_cleaned[titanic_data_age_cleaned['Survived'] == False]['Age'].mean()\n",
    "\n",
    "# Display a few raw totals\n",
    "print 'Total number of survivors {} \\n\\\n",
    "Total number of non survivors {} \\n\\\n",
    "Mean age of survivors {} \\n\\\n",
    "Mean age of non survivors {} \\n\\\n",
    "Oldest to survive {} \\n\\\n",
    "Oldest to not survive {}' \\\n",
    ".format(number_survived, number_died, np.round(mean_age_survived), \n",
    "        np.round(mean_age_died), oldest_to_survive, oldest_to_die)\n",
    "\n",
    "# Graph - Age of passengers across sex of those who survived\n",
    "g = sns.factorplot(x=\"Survived\", y=\"Age\", hue='Sex', data=titanic_data_age_cleaned, kind=\"box\", size=7, aspect=.8)\n",
    "\n",
    "# Fix up the labels\n",
    "(g.set_axis_labels('Suvivors', 'Age of Passengers')\n",
    "    .set_xticklabels([\"False\", \"True\"])\n",
    ")"
   ]
  },
  {
   "cell_type": "markdown",
   "metadata": {},
   "source": [
    "Based on the above boxplot and calculated data, it would appear that:\n",
    "- Regardless of sex and class, **age was not** a deciding factor in the passenger survival rate\n",
    "- Average age for those who survived and even those who did not survive were inline with each other"
   ]
  },
  {
   "cell_type": "markdown",
   "metadata": {},
   "source": [
    "## Question 3\n",
    "Did women and children have preference to lifeboats and therefore survival (assuming there was no shortage of lifeboats)?\n",
    "\n",
    "**Assumption:** With \"child\" not classified in the data, I'll need to assume a cutoff point. Therefore, I'll be using today's standard of under 18 as those to be considered as a child vs adult"
   ]
  },
  {
   "cell_type": "code",
   "execution_count": 52,
   "metadata": {},
   "outputs": [
    {
     "name": "stdout",
     "output_type": "stream",
     "text": [
      "Category  Survived\n",
      "Child     0            52\n",
      "          1            61\n",
      "Man       0           325\n",
      "          1            70\n",
      "Woman     0            47\n",
      "          1           159\n",
      "dtype: int64\n"
     ]
    },
    {
     "data": {
      "image/png": "[encoded data removed]",
      "text/plain": [
       "<matplotlib.figure.Figure at 0xdceaf98>"
      ]
     },
     "metadata": {},
     "output_type": "display_data"
    }
   ],
   "source": [
    "# Create Cateogry column and categorize people\n",
    "titanic_data_age_cleaned.loc[\n",
    "    ( (titanic_data_age_cleaned['Sex'] == 'female') & \n",
    "    (titanic_data_age_cleaned['Age'] >= 18) ),\n",
    "    'Category'] = 'Woman'\n",
    "\n",
    "titanic_data_age_cleaned.loc[\n",
    "    ( (titanic_data_age_cleaned['Sex'] == 'male') & \n",
    "    (titanic_data_age_cleaned['Age'] >= 18) ),\n",
    "    'Category'] = 'Man'\n",
    "\n",
    "titanic_data_age_cleaned.loc[\n",
    "    (titanic_data_age_cleaned['Age'] < 18),\n",
    "    'Category'] = 'Child'\n",
    "\n",
    "# Get the totals grouped by Men, Women and Children, and by survival\n",
    "print titanic_data_age_cleaned.groupby(['Category','Survived']).size()\n",
    "\n",
    "# Graph - Compare survival count between Men, Women and Children\n",
    "g = sns.factorplot('Survived', col='Category', data=titanic_data_age_cleaned, kind='count', size=7, aspect=.8)\n",
    "\n",
    "# Fix up the labels\n",
    "(g.set_axis_labels('Suvivors', 'No. of Passengers')\n",
    "    .set_xticklabels(['False', 'True'])\n",
    ")\n",
    "\n",
    "titles = ['Men', 'Women', 'Children']\n",
    "for ax, title in zip(g.axes.flat, titles):\n",
    "    ax.set_title(title)"
   ]
  },
  {
   "cell_type": "markdown",
   "metadata": {},
   "source": [
    "The data, and more so, the graphs tends to support the idea that \"women and children first\" possibly played a role in the survival of a number of people. It's a bit surprising that more children didn't survive but this could possibly be attributed to the mis-representation of what age is considered as the cut off for adults - i.e. if in the 1900's someone 15-17 were considered adults, they would not have been \"saved\" under the \"women and children first\" idea and would be made to fend for themselves. That would in turn, change the outcome of the above data and possible increase the number of children who survived."
   ]
  },
  {
   "cell_type": "markdown",
   "metadata": {},
   "source": [
    "## Conclusion\n",
    "\n",
    "The results of the analysis, although tentative, would appear to indicate that class and sex, namely, being a female with upper social-economic standing (first class), would give one the best chance of survival when the tragedy occurred on the Titanic. Age did not seem to be a major factor. While being a man in third class, gave one the lowest chance of survival. Women and children, across all classes, tend to have a higher survival rate than men in general but by no means did being a child or woman guarentee survival.\n",
    "\n",
    "**Issues:**\n",
    "- A portion of men and women did not have Age data and were removed from calculations which could have skewed some numbers\n",
    "- The category of 'children' was assumed to be anyone under the age of 18, using today's North American standard for adulthood which was certainly not the case in the 1900s"
   ]
  },
  {
   "cell_type": "markdown",
   "metadata": {},
   "source": [
    "## References\n",
    "\n",
    "- https://www.kaggle.com/c/titanic/data\n",
    "- http://nbviewer.jupyter.org/github/jvns/pandas-cookbook/tree/master/cookbook/\n",
    "- http://seaborn.pydata.org/generated/seaborn.factorplot.html#seaborn.factorplot\n",
    "- https://www.datacamp.com/community/blog/seaborn-cheat-sheet-python"
   ]
  }
 ],
 "metadata": {
  "kernelspec": {
   "display_name": "Python [conda env:py2]",
   "language": "python",
   "name": "conda-env-py2-py"
  },
  "language_info": {
   "codemirror_mode": {
    "name": "ipython",
    "version": 2
   },
   "file_extension": ".py",
   "mimetype": "text/x-python",
   "name": "python",
   "nbconvert_exporter": "python",
   "pygments_lexer": "ipython2",
   "version": "2.7.13"
  }
 },
 "nbformat": 4,
 "nbformat_minor": 1
}
